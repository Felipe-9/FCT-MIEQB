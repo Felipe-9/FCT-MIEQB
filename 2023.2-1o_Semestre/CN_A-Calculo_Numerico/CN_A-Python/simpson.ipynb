{
 "cells": [
  {
   "cell_type": "markdown",
   "id": "710563d6",
   "metadata": {},
   "source": [
    "### CÁLCULO DO INTEGRAL USANDO A REGRA DE SIMPSON"
   ]
  },
  {
   "cell_type": "code",
   "execution_count": 2,
   "id": "21e969be",
   "metadata": {},
   "outputs": [],
   "source": [
    "import numpy as np\n",
    "from sympy import *"
   ]
  },
  {
   "cell_type": "markdown",
   "id": "b1237a21",
   "metadata": {},
   "source": [
    "##### entrada de dados"
   ]
  },
  {
   "cell_type": "code",
   "execution_count": 4,
   "id": "fc8d3b02",
   "metadata": {},
   "outputs": [],
   "source": [
    "a = 0\n",
    "b = 1\n",
    "n = 13\n",
    "h = (b - a) / (2*n)\n",
    "x = np.linspace(a, b, n)\n",
    "def f(x):\n",
    "    return x/(x+1)"
   ]
  },
  {
   "cell_type": "markdown",
   "id": "cb59af28",
   "metadata": {},
   "source": [
    "##### aplicação da regra de Simpson"
   ]
  },
  {
   "cell_type": "code",
   "execution_count": 5,
   "id": "92fcac12",
   "metadata": {},
   "outputs": [],
   "source": [
    "pts_par=[]\n",
    "pts_impar=[]\n",
    "pts = np.linspace(a+h,b-h,int(np.round((b-h-a-h)/h)+1))\n",
    "for i in range(n-1):\n",
    "    pts_par.append(pts[2*i+1])\n",
    "for i in range(n):\n",
    "    pts_impar.append(pts[2*i])\n",
    "\n",
    "fpts_impar = np.array([f(t) for t in pts_impar])\n",
    "fpts_par = np.array([f(t) for t in pts_par])\n",
    "\n",
    "I_simp = (h/3)*(f(a) + 2 * sum(fpts_par)+ 4 * sum(fpts_impar)+f(b))\n"
   ]
  },
  {
   "cell_type": "markdown",
   "id": "3012ce34",
   "metadata": {},
   "source": [
    "##### cálculo do valor exato do integral"
   ]
  },
  {
   "cell_type": "code",
   "execution_count": 6,
   "id": "f57aee69",
   "metadata": {},
   "outputs": [],
   "source": [
    "x = Symbol('x')\n",
    "I=float(integrate(f(x),( x, a, b)))\n",
    "err_simp=abs(I-I_simp)"
   ]
  },
  {
   "cell_type": "markdown",
   "id": "4ad7e0fd",
   "metadata": {},
   "source": [
    "##### saída dos resultados"
   ]
  },
  {
   "cell_type": "code",
   "execution_count": 7,
   "id": "a91cfb8b",
   "metadata": {},
   "outputs": [
    {
     "name": "stdout",
     "output_type": "stream",
     "text": [
      "Valor aproximado do integral ( 13 aplicações) -  0.30685275130696854\n",
      "Valor do integral -  0.3068528194400547\n",
      "|Erro| -  6.81330861729279e-08\n"
     ]
    }
   ],
   "source": [
    "print('Valor aproximado do integral (',n,'aplicações) - ', I_simp)\n",
    "print('Valor do integral - ',I)\n",
    "print('|Erro| - ',err_simp)"
   ]
  }
 ],
 "metadata": {
  "kernelspec": {
   "display_name": "Python 3",
   "language": "python",
   "name": "python3"
  },
  "language_info": {
   "codemirror_mode": {
    "name": "ipython",
    "version": 3
   },
   "file_extension": ".py",
   "mimetype": "text/x-python",
   "name": "python",
   "nbconvert_exporter": "python",
   "pygments_lexer": "ipython3",
   "version": "3.8.10"
  }
 },
 "nbformat": 4,
 "nbformat_minor": 5
}
