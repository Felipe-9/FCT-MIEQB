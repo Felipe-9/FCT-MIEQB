{
 "cells": [
  {
   "cell_type": "markdown",
   "id": "0207bc5e",
   "metadata": {},
   "source": [
    "### CÁLCULO DO INTEGRAL USANDO A REGRA DOS TRAPÉZIOS"
   ]
  },
  {
   "cell_type": "code",
   "execution_count": 2,
   "id": "3add12d6",
   "metadata": {},
   "outputs": [],
   "source": [
    "import numpy as np\n",
    "from sympy import *"
   ]
  },
  {
   "cell_type": "markdown",
   "id": "49c3778c",
   "metadata": {},
   "source": [
    "##### entrada de dados"
   ]
  },
  {
   "cell_type": "code",
   "execution_count": 3,
   "id": "bf830502",
   "metadata": {},
   "outputs": [],
   "source": [
    "a = 0\n",
    "b = 1\n",
    "n = 7\n",
    "h = (b - a) / n\n",
    "\n",
    "def f(x):\n",
    "    return x/(x+1)"
   ]
  },
  {
   "cell_type": "markdown",
   "id": "cd043148",
   "metadata": {},
   "source": [
    "##### utilização da fórmula dos trapézios"
   ]
  },
  {
   "cell_type": "code",
   "execution_count": 4,
   "id": "fcdf069a",
   "metadata": {},
   "outputs": [],
   "source": [
    "pts = np.linspace(a+h,b-h,int(np.round((b-h-a-h)/h+1)))\n",
    "fpts = np.array([f(t) for t in pts])\n",
    "           \n",
    "I_trap = (h/2)*(f(a) + 2 * sum(fpts)+f(b))"
   ]
  },
  {
   "cell_type": "markdown",
   "id": "2eec3c3c",
   "metadata": {},
   "source": [
    "##### cálculo do valor exato do integral e respetivo erro"
   ]
  },
  {
   "cell_type": "code",
   "execution_count": 5,
   "id": "638bf6c3",
   "metadata": {},
   "outputs": [],
   "source": [
    "x = Symbol('x')\n",
    "I=float(integrate(f(x),( x, a, b)))\n",
    "err_trap=abs(I-I_trap)"
   ]
  },
  {
   "cell_type": "markdown",
   "id": "7a1e8748",
   "metadata": {},
   "source": [
    "##### saída dos resultados"
   ]
  },
  {
   "cell_type": "code",
   "execution_count": 6,
   "id": "614bca42",
   "metadata": {},
   "outputs": [
    {
     "name": "stdout",
     "output_type": "stream",
     "text": [
      "Valor aproximado do integral ( 7 aplicações) -  0.3055805305805306\n",
      "Valor do integral -  0.3068528194400547\n",
      "|Erro| -  0.0012722888595241288\n"
     ]
    }
   ],
   "source": [
    "print('Valor aproximado do integral (',n,'aplicações) - ', I_trap)\n",
    "print('Valor do integral - ',I)\n",
    "print('|Erro| - ',err_trap)"
   ]
  },
  {
   "cell_type": "code",
   "execution_count": null,
   "id": "4cb4086a",
   "metadata": {},
   "outputs": [],
   "source": []
  }
 ],
 "metadata": {
  "kernelspec": {
   "display_name": "Python 3",
   "language": "python",
   "name": "python3"
  },
  "language_info": {
   "codemirror_mode": {
    "name": "ipython",
    "version": 3
   },
   "file_extension": ".py",
   "mimetype": "text/x-python",
   "name": "python",
   "nbconvert_exporter": "python",
   "pygments_lexer": "ipython3",
   "version": "3.8.10"
  }
 },
 "nbformat": 4,
 "nbformat_minor": 5
}
