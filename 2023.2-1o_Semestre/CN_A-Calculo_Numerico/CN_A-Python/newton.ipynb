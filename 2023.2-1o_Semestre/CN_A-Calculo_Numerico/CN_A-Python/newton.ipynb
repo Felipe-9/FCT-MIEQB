{
 "cells": [
  {
   "cell_type": "markdown",
   "id": "bd398a37",
   "metadata": {},
   "source": [
    "### CÁLCULO DA RAIZ DA EQUAÇÃO USANDO O MÉTODO DE NEWTON"
   ]
  },
  {
   "cell_type": "markdown",
   "id": "9a518e7a",
   "metadata": {},
   "source": [
    "##### método de Newton"
   ]
  },
  {
   "cell_type": "code",
   "execution_count": 11,
   "id": "9b09c631",
   "metadata": {},
   "outputs": [],
   "source": [
    "def newton(f,Df,x0,epsilon,max_iter):\n",
    "   \n",
    "    xn = x0\n",
    "    for n in range(0,max_iter):\n",
    "        fxn = f(xn)\n",
    "        print(n,'    ',xn)\n",
    "        if abs(fxn) < epsilon:\n",
    "            print('Solução encontrada após',n,'iterações:')\n",
    "            return xn\n",
    "        Dfxn = Df(xn)\n",
    "        if Dfxn == 0:\n",
    "            print('Derivada igual a 0. Não tem solução.')\n",
    "            return None\n",
    "        xn = xn - fxn/Dfxn\n",
    "    print('Excede o valor máximo de iterações. Não tem solução.')\n",
    "    return None"
   ]
  },
  {
   "cell_type": "markdown",
   "id": "ea6099b8",
   "metadata": {},
   "source": [
    "##### entrada de dados e saída de resultados"
   ]
  },
  {
   "cell_type": "code",
   "execution_count": 12,
   "id": "f707286b",
   "metadata": {},
   "outputs": [
    {
     "name": "stdout",
     "output_type": "stream",
     "text": [
      "i               x(i)\n",
      "0      1\n",
      "1      0.8125\n",
      "2      0.7547576753322339\n",
      "3      0.7495763508760411\n",
      "4      0.7495367246388763\n",
      "Solução encontrada após 4 iterações:\n",
      "0.7495367246388763\n"
     ]
    }
   ],
   "source": [
    "p = lambda x: x**4+ 4*x**3 - 2\n",
    "Dp = lambda x: 4*x**3 +12*x**2\n",
    "print('i               x(i)')\n",
    "approx = newton(p,Dp,1,0.0000005,10)\n",
    "print(approx)"
   ]
  }
 ],
 "metadata": {
  "kernelspec": {
   "display_name": "Python 3",
   "language": "python",
   "name": "python3"
  },
  "language_info": {
   "codemirror_mode": {
    "name": "ipython",
    "version": 3
   },
   "file_extension": ".py",
   "mimetype": "text/x-python",
   "name": "python",
   "nbconvert_exporter": "python",
   "pygments_lexer": "ipython3",
   "version": "3.8.10"
  }
 },
 "nbformat": 4,
 "nbformat_minor": 5
}
