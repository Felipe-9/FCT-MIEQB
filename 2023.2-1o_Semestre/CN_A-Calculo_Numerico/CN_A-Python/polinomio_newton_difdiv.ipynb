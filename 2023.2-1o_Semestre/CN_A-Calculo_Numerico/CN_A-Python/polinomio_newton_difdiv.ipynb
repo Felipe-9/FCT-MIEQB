{
 "cells": [
  {
   "cell_type": "markdown",
   "id": "8a02ea49",
   "metadata": {},
   "source": [
    "### CÁLCULO DO POLINÓMIO DE LAGRANGE DIVIDIDAS"
   ]
  },
  {
   "cell_type": "code",
   "execution_count": 16,
   "id": "706acf34",
   "metadata": {},
   "outputs": [],
   "source": [
    "import numpy as np\n",
    "import matplotlib.pyplot as plt\n",
    "import sympy\n"
   ]
  },
  {
   "cell_type": "markdown",
   "id": "7397eec3",
   "metadata": {},
   "source": [
    "##### função para calcular as diferenças divididas"
   ]
  },
  {
   "cell_type": "code",
   "execution_count": 17,
   "id": "c9d01d12",
   "metadata": {},
   "outputs": [],
   "source": [
    "def divided_diff(x, y):\n",
    "    n = len(y)\n",
    "    coef = np.zeros([n, n])\n",
    "    # a primeira coluna de  y\n",
    "    coef[:,0] = y\n",
    "    \n",
    "    for j in range(1,n):\n",
    "        for i in range(n-j):\n",
    "            coef[i][j] = \\\n",
    "           (coef[i+1][j-1] - coef[i][j-1]) / (x[i+j]-x[i]) \n",
    "    return coef"
   ]
  },
  {
   "cell_type": "markdown",
   "id": "561e349f",
   "metadata": {},
   "source": [
    "##### calcular o valor da função polinomial para cada ponto x"
   ]
  },
  {
   "cell_type": "code",
   "execution_count": 18,
   "id": "90999b78",
   "metadata": {},
   "outputs": [],
   "source": [
    "def newton_poly(coef, x_data, x):\n",
    "    X=sympy.symbols('x')\n",
    "    n = len(x_data) - 1 \n",
    "    p = coef[n]\n",
    "    for k in range(1,n+1):\n",
    "        p = coef[n-k] + (x -x_data[n-k])*p\n",
    "    return p"
   ]
  },
  {
   "cell_type": "markdown",
   "id": "c19d5acd",
   "metadata": {},
   "source": [
    "##### calcular a função polinomial interpoladora"
   ]
  },
  {
   "cell_type": "code",
   "execution_count": 19,
   "id": "1be48132",
   "metadata": {},
   "outputs": [],
   "source": [
    "def newton_poly_expand(coef, x_data):\n",
    "    '''\n",
    "    evaluate the newton polynomial \n",
    "    at x\n",
    "    '''\n",
    "    x=sympy.symbols('x')\n",
    "    n = len(x_data) - 1 \n",
    "    p = coef[n]\n",
    "    for k in range(1,n+1):\n",
    "        p = coef[n-k] + (x -x_data[n-k])*p\n",
    "    return p"
   ]
  },
  {
   "cell_type": "code",
   "execution_count": 20,
   "id": "0893268e",
   "metadata": {},
   "outputs": [],
   "source": [
    "x = np.array([1,2,3])\n",
    "y = np.array([0.5,1,3.5])"
   ]
  },
  {
   "cell_type": "markdown",
   "id": "d017aca3",
   "metadata": {},
   "source": [
    "##### obter os coeficientes das diferenças divididas"
   ]
  },
  {
   "cell_type": "code",
   "execution_count": 21,
   "id": "0ce677c7",
   "metadata": {},
   "outputs": [
    {
     "name": "stdout",
     "output_type": "stream",
     "text": [
      "[[0.5 0.5 1. ]\n",
      " [1.  2.5 0. ]\n",
      " [3.5 0.  0. ]]\n"
     ]
    }
   ],
   "source": [
    "aux = divided_diff(x, y)\n",
    "print(aux)\n",
    "a_s = divided_diff(x, y)[0, :]"
   ]
  },
  {
   "cell_type": "markdown",
   "id": "600ab394",
   "metadata": {},
   "source": [
    "##### cálculo dos novos pontos"
   ]
  },
  {
   "cell_type": "code",
   "execution_count": 22,
   "id": "9e5a7adb",
   "metadata": {},
   "outputs": [],
   "source": [
    "x_new = np.arange(0, 4, .1)\n",
    "y_new = newton_poly(a_s, x, x_new)"
   ]
  },
  {
   "cell_type": "markdown",
   "id": "22560ea9",
   "metadata": {},
   "source": [
    "##### polinómio expandido"
   ]
  },
  {
   "cell_type": "code",
   "execution_count": 23,
   "id": "a55df18b",
   "metadata": {},
   "outputs": [
    {
     "name": "stdout",
     "output_type": "stream",
     "text": [
      "1.0*x**2 - 2.5*x + 2.0\n"
     ]
    }
   ],
   "source": [
    "pol = newton_poly_expand(a_s, x)\n",
    "pol=sympy.expand(pol)\n",
    "print(pol)"
   ]
  },
  {
   "cell_type": "markdown",
   "id": "75146946",
   "metadata": {},
   "source": [
    "##### gráfico da função interpoladora"
   ]
  },
  {
   "cell_type": "code",
   "execution_count": 24,
   "id": "d527f8e0",
   "metadata": {},
   "outputs": [
    {
     "data": {
      "image/png": "[encoded data removed]",
      "text/plain": [
       "<Figure size 864x576 with 1 Axes>"
      ]
     },
     "metadata": {
      "needs_background": "light"
     },
     "output_type": "display_data"
    }
   ],
   "source": [
    "plt.figure(figsize = (12, 8))\n",
    "plt.plot(x, y, 'bo')\n",
    "plt.plot(x_new, y_new)\n",
    "plt.show()"
   ]
  },
  {
   "cell_type": "code",
   "execution_count": null,
   "id": "ec6c1fea",
   "metadata": {},
   "outputs": [],
   "source": []
  }
 ],
 "metadata": {
  "kernelspec": {
   "display_name": "Python 3",
   "language": "python",
   "name": "python3"
  },
  "language_info": {
   "codemirror_mode": {
    "name": "ipython",
    "version": 3
   },
   "file_extension": ".py",
   "mimetype": "text/x-python",
   "name": "python",
   "nbconvert_exporter": "python",
   "pygments_lexer": "ipython3",
   "version": "3.8.10"
  }
 },
 "nbformat": 4,
 "nbformat_minor": 5
}
