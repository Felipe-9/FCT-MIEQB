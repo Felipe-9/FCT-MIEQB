{
  "cells": [
    {
      "cell_type": "markdown",
      "id": "e293050e",
      "metadata": {
        "id": "e293050e"
      },
      "source": [
        "### CÁLCULO DO INTEGRAL USANDO A REGRA DO PONTO MÉDIO"
      ]
    },
    {
      "cell_type": "code",
      "execution_count": 49,
      "id": "b94b402c",
      "metadata": {
        "id": "b94b402c"
      },
      "outputs": [],
      "source": [
        "import numpy as np\n",
        "from sympy import *"
      ]
    },
    {
      "cell_type": "markdown",
      "id": "2c8ff232",
      "metadata": {
        "id": "2c8ff232"
      },
      "source": [
        "##### entrada de dados"
      ]
    },
    {
      "cell_type": "code",
      "execution_count": 50,
      "id": "1ba445ad",
      "metadata": {
        "id": "1ba445ad"
      },
      "outputs": [],
      "source": [
        "a = 0\n",
        "b = 1\n",
        "n = 81\n",
        "h = (b - a) / n\n",
        "x = np.linspace(a, b, n+1)\n",
        "\n",
        "def f(x):\n",
        "    return x**5"
      ]
    },
    {
      "cell_type": "markdown",
      "id": "e1d38652",
      "metadata": {
        "id": "e1d38652"
      },
      "source": [
        "##### cálculo dos pontos médios e respetivos valores da função"
      ]
    },
    {
      "cell_type": "code",
      "execution_count": 51,
      "id": "cdd69e4d",
      "metadata": {
        "id": "cdd69e4d"
      },
      "outputs": [],
      "source": [
        "ptsmedios = [(x[i] + x[i+1])/2 for i in range(n)]\n",
        "gptsmedios = np.array([f(t) for t in ptsmedios])"
      ]
    },
    {
      "cell_type": "markdown",
      "id": "104a7b7b",
      "metadata": {
        "id": "104a7b7b"
      },
      "source": [
        "##### aplicação da regra de integração do ponto médio"
      ]
    },
    {
      "cell_type": "code",
      "execution_count": 52,
      "id": "79e1f75f",
      "metadata": {
        "id": "79e1f75f"
      },
      "outputs": [],
      "source": [
        "I_mid = h * sum(gptsmedios)"
      ]
    },
    {
      "cell_type": "markdown",
      "id": "fc649230",
      "metadata": {
        "id": "fc649230"
      },
      "source": [
        "##### cálculo do valor exato e erro"
      ]
    },
    {
      "cell_type": "code",
      "execution_count": 53,
      "id": "11435bbb",
      "metadata": {
        "id": "11435bbb"
      },
      "outputs": [],
      "source": [
        "x = Symbol('x')\n",
        "I=float(integrate(f(x),( x, a, b)))\n",
        "err_mid=abs(I-I_mid)"
      ]
    },
    {
      "cell_type": "markdown",
      "id": "aa7f943a",
      "metadata": {
        "id": "aa7f943a"
      },
      "source": [
        "##### saida de resultados"
      ]
    },
    {
      "cell_type": "code",
      "execution_count": 54,
      "id": "79d72d32",
      "metadata": {
        "colab": {
          "base_uri": "https://localhost:8080/"
        },
        "id": "79d72d32",
        "outputId": "9da4f4a4-cc9b-4fe5-ae12-434972c72ae4"
      },
      "outputs": [
        {
          "output_type": "stream",
          "name": "stdout",
          "text": [
            "Valor aproximado do integral ( 81 aplicações) -  0.16663491507092176\n",
            "Valor do integral -  0.16666666666666666\n",
            "|Erro| -  3.175159574489439e-05\n"
          ]
        }
      ],
      "source": [
        "print('Valor aproximado do integral (',n,'aplicações) - ', I_mid)\n",
        "print('Valor do integral - ',I)\n",
        "print('|Erro| - ',err_mid)"
      ]
    },
    {
      "cell_type": "code",
      "source": [
        ""
      ],
      "metadata": {
        "id": "mi0TaVNXIUow"
      },
      "id": "mi0TaVNXIUow",
      "execution_count": null,
      "outputs": []
    }
  ],
  "metadata": {
    "kernelspec": {
      "display_name": "Python 3",
      "language": "python",
      "name": "python3"
    },
    "language_info": {
      "codemirror_mode": {
        "name": "ipython",
        "version": 3
      },
      "file_extension": ".py",
      "mimetype": "text/x-python",
      "name": "python",
      "nbconvert_exporter": "python",
      "pygments_lexer": "ipython3",
      "version": "3.8.10"
    },
    "colab": {
      "name": "ponto_medio.ipynb",
      "provenance": []
    }
  },
  "nbformat": 4,
  "nbformat_minor": 5
}