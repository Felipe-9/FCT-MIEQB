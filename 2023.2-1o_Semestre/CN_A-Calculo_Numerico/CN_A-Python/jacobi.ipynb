{
 "cells": [
  {
   "cell_type": "markdown",
   "id": "7ef277eb",
   "metadata": {},
   "source": [
    "### CÁLCULO DE UM SISTEMA DE EQUAÇÕES USANDO O MÉTODO DE JACOBI"
   ]
  },
  {
   "cell_type": "code",
   "execution_count": 2,
   "id": "96314c4b",
   "metadata": {},
   "outputs": [],
   "source": [
    "from numpy import array, zeros, diag, diagflat, dot\n",
    "from numpy.linalg import inv\n",
    "import numpy as np"
   ]
  },
  {
   "cell_type": "markdown",
   "id": "acf70834",
   "metadata": {},
   "source": [
    "##### método de jacobi"
   ]
  },
  {
   "cell_type": "code",
   "execution_count": 3,
   "id": "3e99a2e6",
   "metadata": {},
   "outputs": [],
   "source": [
    "def jacobi(A,b,N=2,x=None):\n",
    "                                                                                                                                    \n",
    "    if x is None:\n",
    "        x = zeros(len(A[0]))\n",
    "                                                                                                                                                                                                                                                                                                           \n",
    "    D = diagflat(diag(A))\n",
    "    R = A - D\n",
    "    print('matriz A :\\n',A)\n",
    "    print('matriz b :\\n',b)\n",
    "    print('matriz D :\\n',D)\n",
    "    print('matriz L + U :\\n',R)\n",
    "    Dinv = inv(D)\n",
    "    G=np.matmul(-Dinv,R)\n",
    "    H=np.matmul(Dinv,b)\n",
    "    print('matriz G :\\n',G)\n",
    "    print('matriz H :\\n',H)\n",
    "    norma=np.max(np.sum(np.abs(G),axis=1))\n",
    "    print('norma de G :\\n',norma)\n",
    "                                                                                                                                                                      \n",
    "    for i in range(N):\n",
    "        x = dot(G,x)+H\n",
    "        print('x[',i+1,'] = ', x)\n",
    "    return x\n"
   ]
  },
  {
   "cell_type": "markdown",
   "id": "805a68a6",
   "metadata": {},
   "source": [
    "##### entrada de dados e saída de resultados"
   ]
  },
  {
   "cell_type": "code",
   "execution_count": 4,
   "id": "bca446a5",
   "metadata": {},
   "outputs": [
    {
     "name": "stdout",
     "output_type": "stream",
     "text": [
      "matriz A :\n",
      " [[10  2  1]\n",
      " [ 2 20  2]\n",
      " [-2  3 10]]\n",
      "matriz b :\n",
      " [  9 -44  22]\n",
      "matriz D :\n",
      " [[10  0  0]\n",
      " [ 0 20  0]\n",
      " [ 0  0 10]]\n",
      "matriz L + U :\n",
      " [[ 0  2  1]\n",
      " [ 2  0  2]\n",
      " [-2  3  0]]\n",
      "matriz G :\n",
      " [[ 0.  -0.2 -0.1]\n",
      " [-0.1  0.  -0.1]\n",
      " [ 0.2 -0.3  0. ]]\n",
      "matriz H :\n",
      " [ 0.9 -2.2  2.2]\n",
      "norma de G :\n",
      " 0.5\n",
      "x[ 1 ] =  [ 0.199 -2.606  1.81 ]\n",
      "x[ 2 ] =  [ 1.2402 -2.4009  3.0216]\n"
     ]
    }
   ],
   "source": [
    "A = array([[10,2,1],[2,20,2],[-2,3,10]])\n",
    "b = array([9,-44,22])\n",
    "inicial = array([1.05,2,3.01])\n",
    "\n",
    "\n",
    "sol = jacobi(A,b,N=2,x=inicial)"
   ]
  }
 ],
 "metadata": {
  "kernelspec": {
   "display_name": "Python 3",
   "language": "python",
   "name": "python3"
  },
  "language_info": {
   "codemirror_mode": {
    "name": "ipython",
    "version": 3
   },
   "file_extension": ".py",
   "mimetype": "text/x-python",
   "name": "python",
   "nbconvert_exporter": "python",
   "pygments_lexer": "ipython3",
   "version": "3.8.10"
  }
 },
 "nbformat": 4,
 "nbformat_minor": 5
}
