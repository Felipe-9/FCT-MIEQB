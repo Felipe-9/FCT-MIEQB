{
 "cells": [
  {
   "cell_type": "markdown",
   "id": "9b821d07",
   "metadata": {},
   "source": [
    "# Exercícios #\n"
   ]
  },
  {
   "cell_type": "markdown",
   "id": "d3e67e3f",
   "metadata": {},
   "source": [
    "## Exemplos de utilização da instrução  if  numa função ##"
   ]
  },
  {
   "cell_type": "markdown",
   "id": "58e06d74",
   "metadata": {},
   "source": [
    "$f(x)=\\left\\{\n",
    "\\begin{array}{lll}\n",
    "      300 & se&  x < 100 \\\\\n",
    "      200 +  x&se & 100\\leq x\\leq 500\\\\\n",
    "      350 + \\frac{x}{2}&se & x>500\n",
    "\\end{array} \n",
    "\\right. $"
   ]
  },
  {
   "cell_type": "markdown",
   "id": "dadce14e",
   "metadata": {},
   "source": [
    "A existência de três ramos na função pode ser implementada com uma instrução *if - elif - else*.\n",
    "\n"
   ]
  },
  {
   "cell_type": "code",
   "execution_count": 1,
   "id": "405fecf9",
   "metadata": {},
   "outputs": [],
   "source": [
    "def f(x):   \n",
    "    if x < 100:\n",
    "        result = 300\n",
    "    elif x <= 500:\n",
    "        result = 200 + x\n",
    "    else:\n",
    "        result = 350 + x/2\n",
    "    return result"
   ]
  },
  {
   "cell_type": "markdown",
   "id": "0e2d4d6a",
   "metadata": {},
   "source": [
    "\n",
    "## Nota 1:"
   ]
  },
  {
   "cell_type": "markdown",
   "id": "9ea89702",
   "metadata": {},
   "source": [
    "A conjunção de condições numa instrução ***if*** (ou ***elif**) pode ser apresentada com a instrução ***and*** na forma seguinte:\n",
    "\n",
    "*elif 100 <= x and x< 500:*\n",
    "\n",
    "Neste caso particular até poderíamos fazer\n",
    "\n",
    "*elif 100 <= x < 500:*"
   ]
  },
  {
   "cell_type": "markdown",
   "id": "060612c1",
   "metadata": {},
   "source": [
    "Neste caso concreto não seria necessária a conjunção de condições mas, se a quisessemos utilizar, o código poderia ser:"
   ]
  },
  {
   "cell_type": "code",
   "execution_count": 2,
   "id": "f53a712b",
   "metadata": {},
   "outputs": [],
   "source": [
    "def ff(x):   \n",
    "    if x < 100:\n",
    "        result = 300\n",
    "    elif x>=100 and x < 500:\n",
    "        result = 200 + x\n",
    "    else:\n",
    "        result = 350 + x/2\n",
    "    return result\n",
    "            "
   ]
  },
  {
   "cell_type": "markdown",
   "id": "da1dd9b9",
   "metadata": {},
   "source": [
    "&emsp;\n",
    "\n",
    "&emsp;\n",
    "\n",
    "&emsp;\n",
    "\n",
    "&emsp;\n",
    "\n",
    "## Exemplos de utilização da instrução for ##\n"
   ]
  },
  {
   "cell_type": "markdown",
   "id": "34540da6",
   "metadata": {},
   "source": [
    "A célula seguinte imprime os inteiros pares de 2 a 10"
   ]
  },
  {
   "cell_type": "code",
   "execution_count": 3,
   "id": "73a7050d",
   "metadata": {},
   "outputs": [
    {
     "name": "stdout",
     "output_type": "stream",
     "text": [
      "2\n",
      "4\n",
      "6\n",
      "8\n",
      "10\n"
     ]
    }
   ],
   "source": [
    "for i in range(1,6):\n",
    "    print (2*i)"
   ]
  },
  {
   "cell_type": "markdown",
   "id": "afaf6551",
   "metadata": {},
   "source": [
    "\n",
    "\n",
    "## Nota 2\n",
    "\n",
    "\n",
    "### Instrução break num ciclo for\n",
    "\n",
    "Uma forma de testar, em python, se ***a*** é múltiplo de ***b***, ou de forma equivalente, se  ***b*** é divisivel por ***a***, é:\n",
    "\n",
    "b%a == 0 &nbsp; &nbsp;  (resto da divisão de ***b*** por ***a*** é zero)\n",
    "\n",
    "Exemplo:\n",
    "\n",
    "Procure o menor inteiro positivo múltiplo de 42 e 45: "
   ]
  },
  {
   "cell_type": "code",
   "execution_count": 4,
   "id": "51098764",
   "metadata": {},
   "outputs": [
    {
     "name": "stdout",
     "output_type": "stream",
     "text": [
      "630\n"
     ]
    }
   ],
   "source": [
    "for i in range(1,100000):\n",
    "    if i % 42 ==0 and i % 45 ==0:\n",
    "        print(i)\n",
    "        break"
   ]
  },
  {
   "cell_type": "markdown",
   "id": "cce9b59d",
   "metadata": {},
   "source": [
    "&emsp;\n",
    "\n",
    "&emsp;\n",
    "\n",
    "&emsp;\n",
    "\n",
    "&emsp;\n",
    "\n",
    "## Exemplos de utilização de listas ##"
   ]
  },
  {
   "cell_type": "markdown",
   "id": "ed638604",
   "metadata": {},
   "source": [
    "### criar uma lista vazia ###"
   ]
  },
  {
   "cell_type": "code",
   "execution_count": 5,
   "id": "020083f2",
   "metadata": {},
   "outputs": [],
   "source": [
    "L = []"
   ]
  },
  {
   "cell_type": "markdown",
   "id": "e263be70",
   "metadata": {},
   "source": [
    "### Inserir um elemento no fim de uma lista ###"
   ]
  },
  {
   "cell_type": "code",
   "execution_count": 6,
   "id": "4481af3a",
   "metadata": {},
   "outputs": [
    {
     "name": "stdout",
     "output_type": "stream",
     "text": [
      "[7]\n"
     ]
    }
   ],
   "source": [
    "L.append(7)\n",
    "print(L)"
   ]
  },
  {
   "cell_type": "markdown",
   "id": "25d748ab",
   "metadata": {},
   "source": [
    "### Inserir um elemento no início de uma lista, ou seja, na posição 0."
   ]
  },
  {
   "cell_type": "code",
   "execution_count": 7,
   "id": "a154f620",
   "metadata": {},
   "outputs": [
    {
     "name": "stdout",
     "output_type": "stream",
     "text": [
      "[4, 7]\n"
     ]
    }
   ],
   "source": [
    "L.insert(0,4)\n",
    "print(L)"
   ]
  },
  {
   "cell_type": "markdown",
   "id": "f364d052",
   "metadata": {},
   "source": [
    "### Obter a posição de um elemento numa lista"
   ]
  },
  {
   "cell_type": "code",
   "execution_count": 8,
   "id": "4c856bb2",
   "metadata": {},
   "outputs": [
    {
     "data": {
      "text/plain": [
       "1"
      ]
     },
     "execution_count": 8,
     "metadata": {},
     "output_type": "execute_result"
    }
   ],
   "source": [
    "L.index(7)"
   ]
  },
  {
   "cell_type": "markdown",
   "id": "7feab36e",
   "metadata": {},
   "source": [
    "# Atenção que em python a 1ª posição na lista é a posição zero!"
   ]
  },
  {
   "cell_type": "markdown",
   "id": "2e56d177",
   "metadata": {},
   "source": [
    "### Programa para guardar os inteiros pares de 2 a 10 numa lista"
   ]
  },
  {
   "cell_type": "code",
   "execution_count": 1,
   "id": "8f68abc5",
   "metadata": {},
   "outputs": [
    {
     "name": "stdout",
     "output_type": "stream",
     "text": [
      "[2, 4, 6, 8, 10]\n"
     ]
    }
   ],
   "source": [
    "lista = []\n",
    "for i in range(1,6):\n",
    "    lista.append(2*i)\n",
    "print(lista)"
   ]
  },
  {
   "cell_type": "code",
   "execution_count": null,
   "id": "b36e78fb",
   "metadata": {},
   "outputs": [],
   "source": []
  }
 ],
 "metadata": {
  "kernelspec": {
   "display_name": "Python 3 (ipykernel)",
   "language": "python",
   "name": "python3"
  },
  "language_info": {
   "codemirror_mode": {
    "name": "ipython",
    "version": 3
   },
   "file_extension": ".py",
   "mimetype": "text/x-python",
   "name": "python",
   "nbconvert_exporter": "python",
   "pygments_lexer": "ipython3",
   "version": "3.9.7"
  }
 },
 "nbformat": 4,
 "nbformat_minor": 5
}
