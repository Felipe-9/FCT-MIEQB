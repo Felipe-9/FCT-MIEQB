{
 "cells": [
  {
   "cell_type": "markdown",
   "id": "c0d14744",
   "metadata": {},
   "source": [
    "\n",
    "### CÁLCULO DO POLINÓMIO DE LAGRANGE"
   ]
  },
  {
   "cell_type": "code",
   "execution_count": 7,
   "id": "2845b221",
   "metadata": {},
   "outputs": [],
   "source": [
    "import numpy as np\n",
    "import matplotlib.pyplot as plt\n",
    "import sympy"
   ]
  },
  {
   "cell_type": "markdown",
   "id": "2552664c",
   "metadata": {},
   "source": [
    "##### Cálculo da expressão do polinómio de Lagrange"
   ]
  },
  {
   "cell_type": "code",
   "execution_count": 8,
   "id": "db3e5555",
   "metadata": {},
   "outputs": [
    {
     "name": "stdout",
     "output_type": "stream",
     "text": [
      "7*X**3/2 - 9*X**2/2 - X + 2\n"
     ]
    }
   ],
   "source": [
    "def Lagrange (Lx, Ly):\n",
    "    X=sympy.symbols('X')\n",
    "    if  len(Lx)!= len(Ly):\n",
    "        print(\"ERROR\")\n",
    "        return 1\n",
    "    y=0\n",
    "    for k in range ( len(Lx) ):\n",
    "        t=1\n",
    "        for j in range ( len(Lx) ):\n",
    "            if j != k:\n",
    "                t=t* ( (X-Lx[j]) /(Lx[k]-Lx[j]) )\n",
    "        y+= t*Ly[k]\n",
    "        z=sympy.simplify(y)\n",
    "    return z\n",
    "\n",
    "X=[-1, 0, 1, 2]\n",
    "Y=[-5, 2, 0, 10]\n",
    "\n",
    "\n",
    "print(Lagrange(X,Y))"
   ]
  },
  {
   "cell_type": "markdown",
   "id": "e77538b9",
   "metadata": {},
   "source": [
    "##### Cálculo do gráfico do polinómio interpolador"
   ]
  },
  {
   "cell_type": "code",
   "execution_count": 9,
   "id": "de3b6d6e",
   "metadata": {},
   "outputs": [
    {
     "data": {
      "image/png": "[encoded data removed]",
      "text/plain": [
       "<Figure size 432x288 with 1 Axes>"
      ]
     },
     "metadata": {
      "needs_background": "light"
     },
     "output_type": "display_data"
    }
   ],
   "source": [
    "def funcLagrange(X,Y,x):\n",
    "    n = len(X)\n",
    "    X = np.array(X)\n",
    "    Y = np.array(Y)\n",
    "\n",
    "    def basis(x, j):\n",
    "        b = [(x - X[m]) / (X[j] - X[m])\n",
    "             for m in range(n) if m != j]\n",
    "        return np.prod(b, axis=0) * Y[j]\n",
    "\n",
    "    b = [basis(x, j) for j in range(n)]\n",
    "    return np.sum(b, axis=0) \n",
    "\n",
    "\n",
    "xx = np.arange(-10, 25) / 10\n",
    "plt.scatter(X, Y, c='k')\n",
    "\n",
    "lp = funcLagrange(X, Y,xx)\n",
    "\n",
    "\n",
    "\n",
    "plt.plot(xx, lp, linestyle=':')\n",
    "plt.show()"
   ]
  },
  {
   "cell_type": "code",
   "execution_count": null,
   "id": "15bc8289",
   "metadata": {},
   "outputs": [],
   "source": []
  }
 ],
 "metadata": {
  "kernelspec": {
   "display_name": "Python 3",
   "language": "python",
   "name": "python3"
  },
  "language_info": {
   "codemirror_mode": {
    "name": "ipython",
    "version": 3
   },
   "file_extension": ".py",
   "mimetype": "text/x-python",
   "name": "python",
   "nbconvert_exporter": "python",
   "pygments_lexer": "ipython3",
   "version": "3.8.10"
  }
 },
 "nbformat": 4,
 "nbformat_minor": 5
}
