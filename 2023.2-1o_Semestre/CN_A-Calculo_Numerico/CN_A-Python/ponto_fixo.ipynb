{
 "cells": [
  {
   "cell_type": "markdown",
   "id": "a30a0023",
   "metadata": {},
   "source": [
    "### CÁLCULO DA RAIZ DA EQUAÇÃO USANDO O MÉTODO DO PONTO FIXO"
   ]
  },
  {
   "cell_type": "code",
   "execution_count": 6,
   "id": "fc3fe7cd",
   "metadata": {},
   "outputs": [],
   "source": [
    "from numpy.linalg import norm\n",
    "import numpy as np"
   ]
  },
  {
   "cell_type": "markdown",
   "id": "0b955f45",
   "metadata": {},
   "source": [
    "##### entrada da função"
   ]
  },
  {
   "cell_type": "code",
   "execution_count": 7,
   "id": "44fb2f89",
   "metadata": {},
   "outputs": [],
   "source": [
    "def f(x):\n",
    "    return np.log(1+x)+0.2"
   ]
  },
  {
   "cell_type": "markdown",
   "id": "17a0b143",
   "metadata": {},
   "source": [
    "##### método do ponto fixo"
   ]
  },
  {
   "cell_type": "code",
   "execution_count": 8,
   "id": "5a4fd30d",
   "metadata": {},
   "outputs": [],
   "source": [
    "def fixedp(f,x0,tol=0.000005,maxiter=50):\n",
    " n=0\n",
    " e = 1\n",
    " itr = 0\n",
    " xp = []\n",
    " print('   i               x(i)')\n",
    " while(e > tol and itr < maxiter):\n",
    "  print('iterada',n,'  ',x0)\n",
    "  x = f(x0)      # ponto fixo de f\n",
    "  e = norm(x0-x) # erro para cada passo\n",
    "  x0 = x\n",
    "  xp.append(x0)  # guardar a solução para cada passo\n",
    "  itr = itr + 1\n",
    "  n=n+1\n",
    " return x,xp"
   ]
  },
  {
   "cell_type": "markdown",
   "id": "3df291de",
   "metadata": {},
   "source": [
    "##### entrada de dados e saída de resultados "
   ]
  },
  {
   "cell_type": "code",
   "execution_count": 9,
   "id": "3e4ec24a",
   "metadata": {},
   "outputs": [
    {
     "name": "stdout",
     "output_type": "stream",
     "text": [
      "   i               x(i)\n",
      "iterada 0    0.2\n",
      "iterada 1    0.38232155679395463\n",
      "iterada 2    0.5237643732403041\n",
      "iterada 3    0.6211838345762741\n",
      "iterada 4    0.6831566444518085\n",
      "iterada 5    0.7206709854180899\n",
      "iterada 6    0.742714322554312\n",
      "iterada 7    0.7554438532507397\n",
      "iterada 8    0.7627217327772131\n",
      "iterada 9    0.7668590536224396\n",
      "iterada 10    0.7692034242378321\n",
      "iterada 11    0.7705294024825966\n",
      "iterada 12    0.771278599312808\n",
      "iterada 13    0.7717016582934222\n",
      "iterada 14    0.7719404736137823\n",
      "iterada 15    0.7720752588498936\n",
      "iterada 16    0.7721513224152676\n",
      "iterada 17    0.7721942449337025\n",
      "iterada 18    0.7722184652122397\n",
      "iterada 19    0.7722321319494503\n",
      "iterada 20    0.7722398435746154\n"
     ]
    }
   ],
   "source": [
    "x_start = .2\n",
    "xf,xp = fixedp(f,x_start)"
   ]
  }
 ],
 "metadata": {
  "kernelspec": {
   "display_name": "Python 3",
   "language": "python",
   "name": "python3"
  },
  "language_info": {
   "codemirror_mode": {
    "name": "ipython",
    "version": 3
   },
   "file_extension": ".py",
   "mimetype": "text/x-python",
   "name": "python",
   "nbconvert_exporter": "python",
   "pygments_lexer": "ipython3",
   "version": "3.8.10"
  }
 },
 "nbformat": 4,
 "nbformat_minor": 5
}
