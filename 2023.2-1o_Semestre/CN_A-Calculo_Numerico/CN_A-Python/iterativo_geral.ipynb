{
 "cells": [
  {
   "cell_type": "markdown",
   "id": "e8b6e7ff",
   "metadata": {},
   "source": [
    "##### CÁLCULO DE UM SISTEMA DE EQUAÇÕES USANDO O MÉTODO ITERATIVO GERAL\n"
   ]
  },
  {
   "cell_type": "code",
   "execution_count": 1,
   "id": "901e5f92",
   "metadata": {},
   "outputs": [],
   "source": [
    "from numpy import array, zeros, diag, diagflat, dot\n",
    "from numpy.linalg import inv\n",
    "import numpy as np"
   ]
  },
  {
   "cell_type": "markdown",
   "id": "91ec6179",
   "metadata": {},
   "source": [
    "##### método iterativo geral"
   ]
  },
  {
   "cell_type": "code",
   "execution_count": 2,
   "id": "8e2d2e86",
   "metadata": {},
   "outputs": [],
   "source": [
    "def iterativo_geral(A,b,n,N,x=None):\n",
    "                                                                                                                                  \n",
    "    if x is None:\n",
    "        x = zeros(len(A[0]))\n",
    "                                                                                                                                                                                                                                                                                                               \n",
    "    P=N-A\n",
    "    print('matriz A :\\n',A)\n",
    "    print('matriz b :\\n',b)\n",
    "    print('matriz N :\\n',N)\n",
    "    print('matriz P :\\n',P)\n",
    "        \n",
    "    G=np.matmul(inv(N),P)\n",
    "    H=np.matmul(inv(N),b)\n",
    "    print('matriz G :\\n',G)\n",
    "    print('matriz H :\\n',H)\n",
    "    norma=np.max(np.sum(np.abs(G),axis=1))\n",
    "    print('norma de G :\\n',norma)\n",
    "                                                                                                                                                                     \n",
    "    for i in range(n):\n",
    "        x = dot(G,x)+H\n",
    "        print('x[',i+1,'] = ', x)\n",
    "    return x"
   ]
  },
  {
   "cell_type": "markdown",
   "id": "dd84b1f9",
   "metadata": {},
   "source": [
    "##### entrada de dados e saída de resultados"
   ]
  },
  {
   "cell_type": "code",
   "execution_count": 3,
   "id": "92967158",
   "metadata": {},
   "outputs": [
    {
     "name": "stdout",
     "output_type": "stream",
     "text": [
      "matriz A :\n",
      " [[ 1.2  -0.1  -0.2 ]\n",
      " [-0.15  0.77  0.12]\n",
      " [-0.02  0.22  0.96]]\n",
      "matriz b :\n",
      " [0.25 0.1  1.2 ]\n",
      "matriz N :\n",
      " [[1 0 0]\n",
      " [0 1 0]\n",
      " [0 0 1]]\n",
      "matriz P :\n",
      " [[-0.2   0.1   0.2 ]\n",
      " [ 0.15  0.23 -0.12]\n",
      " [ 0.02 -0.22  0.04]]\n",
      "matriz G :\n",
      " [[-0.2   0.1   0.2 ]\n",
      " [ 0.15  0.23 -0.12]\n",
      " [ 0.02 -0.22  0.04]]\n",
      "matriz H :\n",
      " [0.25 0.1  1.2 ]\n",
      "norma de G :\n",
      " 0.5\n",
      "x[ 1 ] =  [0.25 0.1  1.2 ]\n",
      "x[ 2 ] =  [0.45   0.0165 1.231 ]\n",
      "x[ 3 ] =  [0.40785  0.023575 1.25461 ]\n",
      "x[ 4 ] =  [0.4217095  0.01604655 1.2531549 ]\n",
      "x[ 5 ] =  [0.41789374 0.01656854 1.25503015]\n"
     ]
    }
   ],
   "source": [
    "A = array([[1.2,-0.1,-0.2],[-0.15,0.77,0.12],[-0.02,0.22,0.96]])\n",
    "b = array([0.25,0.1,1.2])\n",
    "N = array([[1,0,0],[0,1,0],[0,0,1]])\n",
    "inicial = array([0,0,0])\n",
    "\n",
    "\n",
    "sol = iterativo_geral(A,b,5,N,x=inicial)"
   ]
  }
 ],
 "metadata": {
  "kernelspec": {
   "display_name": "Python 3",
   "language": "python",
   "name": "python3"
  },
  "language_info": {
   "codemirror_mode": {
    "name": "ipython",
    "version": 3
   },
   "file_extension": ".py",
   "mimetype": "text/x-python",
   "name": "python",
   "nbconvert_exporter": "python",
   "pygments_lexer": "ipython3",
   "version": "3.8.10"
  }
 },
 "nbformat": 4,
 "nbformat_minor": 5
}
