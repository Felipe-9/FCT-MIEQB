{
  "nbformat": 4,
  "nbformat_minor": 0,
  "metadata": {
    "colab": {
      "provenance": []
    },
    "kernelspec": {
      "name": "python3",
      "display_name": "Python 3"
    },
    "language_info": {
      "name": "python"
    }
  },
  "cells": [
    {
      "cell_type": "code",
      "execution_count": 9,
      "metadata": {
        "colab": {
          "base_uri": "https://localhost:8080/"
        },
        "id": "q9marcow4kQ6",
        "outputId": "9965b26c-1ea6-4caf-bee3-400c8e6d479c"
      },
      "outputs": [
        {
          "output_type": "stream",
          "name": "stdout",
          "text": [
            "g xx**2 - 2\n",
            "derivada de g 2*xx\n"
          ]
        }
      ],
      "source": [
        "#passar de uma função no sympy para uma função no numpy\n",
        "\n",
        "\n",
        "import numpy as np\n",
        "import sympy as S\n",
        "\n",
        "# definir uma variável 'simbólica'\n",
        "from sympy import Symbol\n",
        "xx = Symbol('xx')\n",
        "\n",
        "# definir uma função, g, usando uma expressão qualquer\n",
        "g = lambda xx: xx**2-2\n",
        "gg = S.lambdify(xx,g(xx))\n",
        "print('g', gg(xx))\n",
        "\n",
        "\n",
        "# definir uma função sympy, dg, derivada de g\n",
        "dg = lambda xx: S.diff(g(xx),xx)\n",
        "\n",
        "\n",
        "# definir uma função que pode ser usada no numpy, Dg, que avalia a derivada de g\n",
        "# nos argumentos (escalar, vetor, matriz,...)\n",
        "Dg = S.lambdify(xx,dg(xx))\n",
        "\n",
        "print('derivada de g',Dg(xx))\n"
      ]
    }
  ]
}