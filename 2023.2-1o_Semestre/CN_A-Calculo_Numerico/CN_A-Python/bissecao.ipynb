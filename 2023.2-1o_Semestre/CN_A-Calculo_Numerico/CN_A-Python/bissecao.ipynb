{
 "cells": [
  {
   "cell_type": "markdown",
   "id": "51c820a4",
   "metadata": {},
   "source": [
    "### CÁLCULO DA RAIZ DA EQUAÇÃO USANDO O MÉTODO DA BISSEÇÃO"
   ]
  },
  {
   "cell_type": "code",
   "execution_count": 7,
   "id": "5561c4cd",
   "metadata": {},
   "outputs": [],
   "source": [
    "import numpy as np"
   ]
  },
  {
   "cell_type": "markdown",
   "id": "b6ff34f4",
   "metadata": {},
   "source": [
    "##### método da bisseção"
   ]
  },
  {
   "cell_type": "code",
   "execution_count": 8,
   "id": "378f23c3",
   "metadata": {},
   "outputs": [],
   "source": [
    "def my_bisection(f, a, b, tol,n): \n",
    "    \n",
    "    if np.sign(f(a)) == np.sign(f(b)):\n",
    "        raise Exception(\n",
    "         \"Não se pode calcular a raiz porque o sinal de f(a) é igual ao sinal de f(b)\")\n",
    "        \n",
    "    \n",
    "    m = (a + b)/2\n",
    "    print('iterada',n,'-',m)\n",
    "    if np.abs(f(m)) < tol:\n",
    "        return m\n",
    "    elif np.sign(f(a)) == np.sign(f(m)):\n",
    "        n=n+1\n",
    "        return my_bisection(f, m, b, tol,n)\n",
    "    elif np.sign(f(b)) == np.sign(f(m)):\n",
    "        n=n+1\n",
    "        return my_bisection(f, a, m, tol,n)"
   ]
  },
  {
   "cell_type": "markdown",
   "id": "c520424e",
   "metadata": {},
   "source": [
    "##### entrada dos dados e saida de resultados"
   ]
  },
  {
   "cell_type": "code",
   "execution_count": 9,
   "id": "b9425502",
   "metadata": {},
   "outputs": [
    {
     "name": "stdout",
     "output_type": "stream",
     "text": [
      "iterada 1 - 1.0\n",
      "iterada 2 - 0.5\n",
      "iterada 3 - 0.75\n",
      "iterada 4 - 0.625\n",
      "iterada 5 - 0.5625\n",
      "iterada 6 - 0.53125\n",
      "iterada 7 - 0.515625\n",
      "iterada 8 - 0.5078125\n",
      "iterada 9 - 0.51171875\n",
      "iterada 10 - 0.509765625\n",
      "iterada 11 - 0.5107421875\n",
      "iterada 12 - 0.51123046875\n",
      "iterada 13 - 0.510986328125\n",
      "iterada 14 - 0.5108642578125\n",
      "iterada 15 - 0.51092529296875\n",
      "iterada 16 - 0.510955810546875\n",
      "iterada 17 - 0.5109710693359375\n",
      "f(x) = 4.418654478477446e-06\n"
     ]
    }
   ],
   "source": [
    "f = lambda x: 1-x-np.sin(x)\n",
    "r1 = my_bisection(f, 0, 2, 0.000005,1)\n",
    "print(\"f(x) =\", f(r1))"
   ]
  },
  {
   "cell_type": "code",
   "execution_count": null,
   "id": "038a0d9f",
   "metadata": {},
   "outputs": [],
   "source": []
  }
 ],
 "metadata": {
  "kernelspec": {
   "display_name": "Python 3",
   "language": "python",
   "name": "python3"
  },
  "language_info": {
   "codemirror_mode": {
    "name": "ipython",
    "version": 3
   },
   "file_extension": ".py",
   "mimetype": "text/x-python",
   "name": "python",
   "nbconvert_exporter": "python",
   "pygments_lexer": "ipython3",
   "version": "3.8.10"
  }
 },
 "nbformat": 4,
 "nbformat_minor": 5
}
