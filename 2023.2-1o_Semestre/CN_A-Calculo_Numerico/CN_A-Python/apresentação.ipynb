{
 "cells": [
  {
   "cell_type": "markdown",
   "id": "4a7cef58",
   "metadata": {},
   "source": [
    "# Apresentação do Python #"
   ]
  },
  {
   "cell_type": "code",
   "execution_count": 2,
   "id": "c3642145",
   "metadata": {},
   "outputs": [
    {
     "data": {
      "text/plain": [
       "[-2, 14.7, 'olá']"
      ]
     },
     "execution_count": 2,
     "metadata": {},
     "output_type": "execute_result"
    }
   ],
   "source": [
    "range(5)\n",
    "[-2,14.7,'olá']"
   ]
  },
  {
   "cell_type": "code",
   "execution_count": 3,
   "id": "c5a3c506",
   "metadata": {},
   "outputs": [
    {
     "name": "stdout",
     "output_type": "stream",
     "text": [
      "olá\n",
      "3\n"
     ]
    }
   ],
   "source": [
    "A = 5\n",
    "t = 'olá'\n",
    "x = 1\n",
    "x = x+2\n",
    "print(t)\n",
    "print(x)"
   ]
  },
  {
   "cell_type": "code",
   "execution_count": 4,
   "id": "c270654f",
   "metadata": {},
   "outputs": [],
   "source": [
    "def quadrado_mais_um(x):\n",
    "    y = x*x\n",
    "    y = y+1\n",
    "    return y"
   ]
  },
  {
   "cell_type": "code",
   "execution_count": 5,
   "id": "f74abfbf",
   "metadata": {},
   "outputs": [
    {
     "data": {
      "text/plain": [
       "5"
      ]
     },
     "execution_count": 5,
     "metadata": {},
     "output_type": "execute_result"
    }
   ],
   "source": [
    "quadrado_mais_um(2)"
   ]
  },
  {
   "cell_type": "code",
   "execution_count": 6,
   "id": "55b9916b",
   "metadata": {},
   "outputs": [
    {
     "name": "stdout",
     "output_type": "stream",
     "text": [
      "0\n",
      "1\n",
      "4\n",
      "9\n",
      "16\n"
     ]
    }
   ],
   "source": [
    "for i in range(5):\n",
    "    x = i*i\n",
    "    print(x)"
   ]
  },
  {
   "cell_type": "code",
   "execution_count": 7,
   "id": "756dd294",
   "metadata": {},
   "outputs": [
    {
     "name": "stdout",
     "output_type": "stream",
     "text": [
      "1\n",
      "4\n",
      "9\n",
      "16\n"
     ]
    }
   ],
   "source": [
    "for i in range(1,5):\n",
    "    x = i*i\n",
    "    print(x)"
   ]
  },
  {
   "cell_type": "code",
   "execution_count": 8,
   "id": "9adccbaf",
   "metadata": {},
   "outputs": [],
   "source": [
    "def H(x):\n",
    "    if x < 0:\n",
    "        y = 0\n",
    "    else:\n",
    "        y = 1\n",
    "    return y"
   ]
  },
  {
   "cell_type": "code",
   "execution_count": 9,
   "id": "358d5b39",
   "metadata": {},
   "outputs": [
    {
     "data": {
      "text/plain": [
       "1"
      ]
     },
     "execution_count": 9,
     "metadata": {},
     "output_type": "execute_result"
    }
   ],
   "source": [
    "H(2)"
   ]
  },
  {
   "cell_type": "code",
   "execution_count": 10,
   "id": "432c124c",
   "metadata": {},
   "outputs": [
    {
     "data": {
      "text/plain": [
       "1"
      ]
     },
     "execution_count": 10,
     "metadata": {},
     "output_type": "execute_result"
    }
   ],
   "source": [
    "H(5)"
   ]
  },
  {
   "cell_type": "code",
   "execution_count": null,
   "id": "3c4e8c3b",
   "metadata": {},
   "outputs": [],
   "source": []
  }
 ],
 "metadata": {
  "kernelspec": {
   "display_name": "Python 3 (ipykernel)",
   "language": "python",
   "name": "python3"
  },
  "language_info": {
   "codemirror_mode": {
    "name": "ipython",
    "version": 3
   },
   "file_extension": ".py",
   "mimetype": "text/x-python",
   "name": "python",
   "nbconvert_exporter": "python",
   "pygments_lexer": "ipython3",
   "version": "3.9.7"
  }
 },
 "nbformat": 4,
 "nbformat_minor": 5
}
