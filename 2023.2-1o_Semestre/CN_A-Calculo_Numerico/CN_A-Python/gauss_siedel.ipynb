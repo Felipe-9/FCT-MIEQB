{
 "cells": [
  {
   "cell_type": "markdown",
   "id": "50bcac7a",
   "metadata": {},
   "source": [
    "### CÁLCULO DE UM SISTEMA DE EQUAÇÕES USANDO O MÉTODO DE GAUSS-SIEDEL"
   ]
  },
  {
   "cell_type": "code",
   "execution_count": 3,
   "id": "0a9ffbd8",
   "metadata": {},
   "outputs": [],
   "source": [
    "from numpy import array, zeros, diag, diagflat, dot\n",
    "from numpy.linalg import inv\n",
    "import numpy as np"
   ]
  },
  {
   "cell_type": "markdown",
   "id": "78d24d04",
   "metadata": {},
   "source": [
    "##### método de gauss_siedel"
   ]
  },
  {
   "cell_type": "code",
   "execution_count": 5,
   "id": "1d227c87",
   "metadata": {},
   "outputs": [],
   "source": [
    "def gauss_siedel(A,b,N=2,x=None):\n",
    "                                                                                                                                 \n",
    "    if x is None:\n",
    "        x = zeros(len(A[0]))\n",
    "                                                                                                                                                                                                                                                                                                               \n",
    "    D = diagflat(diag(A))\n",
    "    L = np.tril(A,-1)\n",
    "    U = np.triu(A,1)\n",
    "    print('L',L)\n",
    "    print('U',U)\n",
    "    print('matriz A :\\n',A)\n",
    "    print('matriz b :\\n',b)\n",
    "    print('matriz D :\\n',D)\n",
    "    print('matriz L :\\n',L)\n",
    "    print('matriz U :\\n',U)\n",
    "    \n",
    "    G=np.matmul(-inv(D+L),U)\n",
    "    H=np.matmul(inv(D+L),b)\n",
    "    print('matriz G :\\n',G)\n",
    "    print('matriz H :\\n',H)\n",
    "    norma=np.max(np.sum(np.abs(G),axis=1))\n",
    "    print('norma de G :\\n',norma)\n",
    "                                                                                                                                                                        \n",
    "    for i in range(N):\n",
    "        x = dot(G,x)+H\n",
    "        print('x[',i+1,'] = ', x)\n",
    "    return x\n"
   ]
  },
  {
   "cell_type": "markdown",
   "id": "fb65b3bf",
   "metadata": {},
   "source": [
    "##### entrada de dados e saída de resultados"
   ]
  },
  {
   "cell_type": "code",
   "execution_count": 6,
   "id": "1932327e",
   "metadata": {},
   "outputs": [
    {
     "name": "stdout",
     "output_type": "stream",
     "text": [
      "L [[ 0  0  0]\n",
      " [ 2  0  0]\n",
      " [-2  3  0]]\n",
      "U [[0 2 1]\n",
      " [0 0 2]\n",
      " [0 0 0]]\n",
      "matriz A :\n",
      " [[10  2  1]\n",
      " [ 2 20  2]\n",
      " [-2  3 10]]\n",
      "matriz b :\n",
      " [  9 -44  22]\n",
      "matriz D :\n",
      " [[10  0  0]\n",
      " [ 0 20  0]\n",
      " [ 0  0 10]]\n",
      "matriz L :\n",
      " [[ 0  0  0]\n",
      " [ 2  0  0]\n",
      " [-2  3  0]]\n",
      "matriz U :\n",
      " [[0 2 1]\n",
      " [0 0 2]\n",
      " [0 0 0]]\n",
      "matriz G :\n",
      " [[ 0.    -0.2   -0.1  ]\n",
      " [ 0.     0.02  -0.09 ]\n",
      " [ 0.    -0.046  0.007]]\n",
      "matriz H :\n",
      " [ 0.9   -2.29   3.067]\n",
      "norma de G :\n",
      " 0.30000000000000004\n",
      "x[ 1 ] =  [ 0.199   -2.5209   2.99607]\n",
      "x[ 2 ] =  [ 1.104573   -2.6100643   3.20393389]\n"
     ]
    }
   ],
   "source": [
    "A = array([[10,2,1],[2,20,2],[-2,3,10]])\n",
    "b = array([9,-44,22])\n",
    "inicial = array([1.05,2,3.01])\n",
    "\n",
    "\n",
    "sol = gauss_siedel(A,b,N=2,x=inicial)"
   ]
  }
 ],
 "metadata": {
  "kernelspec": {
   "display_name": "Python 3",
   "language": "python",
   "name": "python3"
  },
  "language_info": {
   "codemirror_mode": {
    "name": "ipython",
    "version": 3
   },
   "file_extension": ".py",
   "mimetype": "text/x-python",
   "name": "python",
   "nbconvert_exporter": "python",
   "pygments_lexer": "ipython3",
   "version": "3.8.10"
  }
 },
 "nbformat": 4,
 "nbformat_minor": 5
}
